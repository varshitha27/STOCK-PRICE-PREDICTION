{
  "nbformat": 4,
  "nbformat_minor": 0,
  "metadata": {
    "colab": {
      "provenance": []
    },
    "kernelspec": {
      "name": "python3",
      "display_name": "Python 3"
    },
    "language_info": {
      "name": "python"
    }
  },
  "cells": [
    {
      "cell_type": "markdown",
      "source": [
        "**IMPORTING NECESSARY LIBRARIES**"
      ],
      "metadata": {
        "id": "JOw7SQ3YAvwD"
      }
    },
    {
      "cell_type": "code",
      "execution_count": 38,
      "metadata": {
        "id": "4gtWSr52mkLB",
        "colab": {
          "base_uri": "https://localhost:8080/",
          "height": 237
        },
        "outputId": "1550a7cc-9b9c-404a-a7d8-fa9e6ac14552"
      },
      "outputs": [
        {
          "output_type": "execute_result",
          "data": {
            "text/plain": [
              "                  Open        High         Low       Close   Adj Close  \\\n",
              "Date                                                                     \n",
              "2023-02-06  363.640015  368.450012  360.679993  361.480011  361.480011   \n",
              "2023-02-07  358.510010  364.179993  354.179993  362.950012  362.950012   \n",
              "2023-02-08  360.019989  368.190002  358.309998  366.829987  366.829987   \n",
              "2023-02-09  372.410004  373.829987  361.739990  362.500000  362.500000   \n",
              "2023-02-10  359.160004  362.140015  347.140015  347.359985  347.359985   \n",
              "\n",
              "             Volume  \n",
              "Date                 \n",
              "2023-02-06  4994900  \n",
              "2023-02-07  6289400  \n",
              "2023-02-08  6253200  \n",
              "2023-02-09  6901100  \n",
              "2023-02-10  7291100  "
            ],
            "text/html": [
              "\n",
              "  <div id=\"df-d19d2616-f903-493c-acd8-8647bcba7aa7\" class=\"colab-df-container\">\n",
              "    <div>\n",
              "<style scoped>\n",
              "    .dataframe tbody tr th:only-of-type {\n",
              "        vertical-align: middle;\n",
              "    }\n",
              "\n",
              "    .dataframe tbody tr th {\n",
              "        vertical-align: top;\n",
              "    }\n",
              "\n",
              "    .dataframe thead th {\n",
              "        text-align: right;\n",
              "    }\n",
              "</style>\n",
              "<table border=\"1\" class=\"dataframe\">\n",
              "  <thead>\n",
              "    <tr style=\"text-align: right;\">\n",
              "      <th></th>\n",
              "      <th>Open</th>\n",
              "      <th>High</th>\n",
              "      <th>Low</th>\n",
              "      <th>Close</th>\n",
              "      <th>Adj Close</th>\n",
              "      <th>Volume</th>\n",
              "    </tr>\n",
              "    <tr>\n",
              "      <th>Date</th>\n",
              "      <th></th>\n",
              "      <th></th>\n",
              "      <th></th>\n",
              "      <th></th>\n",
              "      <th></th>\n",
              "      <th></th>\n",
              "    </tr>\n",
              "  </thead>\n",
              "  <tbody>\n",
              "    <tr>\n",
              "      <th>2023-02-06</th>\n",
              "      <td>363.640015</td>\n",
              "      <td>368.450012</td>\n",
              "      <td>360.679993</td>\n",
              "      <td>361.480011</td>\n",
              "      <td>361.480011</td>\n",
              "      <td>4994900</td>\n",
              "    </tr>\n",
              "    <tr>\n",
              "      <th>2023-02-07</th>\n",
              "      <td>358.510010</td>\n",
              "      <td>364.179993</td>\n",
              "      <td>354.179993</td>\n",
              "      <td>362.950012</td>\n",
              "      <td>362.950012</td>\n",
              "      <td>6289400</td>\n",
              "    </tr>\n",
              "    <tr>\n",
              "      <th>2023-02-08</th>\n",
              "      <td>360.019989</td>\n",
              "      <td>368.190002</td>\n",
              "      <td>358.309998</td>\n",
              "      <td>366.829987</td>\n",
              "      <td>366.829987</td>\n",
              "      <td>6253200</td>\n",
              "    </tr>\n",
              "    <tr>\n",
              "      <th>2023-02-09</th>\n",
              "      <td>372.410004</td>\n",
              "      <td>373.829987</td>\n",
              "      <td>361.739990</td>\n",
              "      <td>362.500000</td>\n",
              "      <td>362.500000</td>\n",
              "      <td>6901100</td>\n",
              "    </tr>\n",
              "    <tr>\n",
              "      <th>2023-02-10</th>\n",
              "      <td>359.160004</td>\n",
              "      <td>362.140015</td>\n",
              "      <td>347.140015</td>\n",
              "      <td>347.359985</td>\n",
              "      <td>347.359985</td>\n",
              "      <td>7291100</td>\n",
              "    </tr>\n",
              "  </tbody>\n",
              "</table>\n",
              "</div>\n",
              "    <div class=\"colab-df-buttons\">\n",
              "\n",
              "  <div class=\"colab-df-container\">\n",
              "    <button class=\"colab-df-convert\" onclick=\"convertToInteractive('df-d19d2616-f903-493c-acd8-8647bcba7aa7')\"\n",
              "            title=\"Convert this dataframe to an interactive table.\"\n",
              "            style=\"display:none;\">\n",
              "\n",
              "  <svg xmlns=\"http://www.w3.org/2000/svg\" height=\"24px\" viewBox=\"0 -960 960 960\">\n",
              "    <path d=\"M120-120v-720h720v720H120Zm60-500h600v-160H180v160Zm220 220h160v-160H400v160Zm0 220h160v-160H400v160ZM180-400h160v-160H180v160Zm440 0h160v-160H620v160ZM180-180h160v-160H180v160Zm440 0h160v-160H620v160Z\"/>\n",
              "  </svg>\n",
              "    </button>\n",
              "\n",
              "  <style>\n",
              "    .colab-df-container {\n",
              "      display:flex;\n",
              "      gap: 12px;\n",
              "    }\n",
              "\n",
              "    .colab-df-convert {\n",
              "      background-color: #E8F0FE;\n",
              "      border: none;\n",
              "      border-radius: 50%;\n",
              "      cursor: pointer;\n",
              "      display: none;\n",
              "      fill: #1967D2;\n",
              "      height: 32px;\n",
              "      padding: 0 0 0 0;\n",
              "      width: 32px;\n",
              "    }\n",
              "\n",
              "    .colab-df-convert:hover {\n",
              "      background-color: #E2EBFA;\n",
              "      box-shadow: 0px 1px 2px rgba(60, 64, 67, 0.3), 0px 1px 3px 1px rgba(60, 64, 67, 0.15);\n",
              "      fill: #174EA6;\n",
              "    }\n",
              "\n",
              "    .colab-df-buttons div {\n",
              "      margin-bottom: 4px;\n",
              "    }\n",
              "\n",
              "    [theme=dark] .colab-df-convert {\n",
              "      background-color: #3B4455;\n",
              "      fill: #D2E3FC;\n",
              "    }\n",
              "\n",
              "    [theme=dark] .colab-df-convert:hover {\n",
              "      background-color: #434B5C;\n",
              "      box-shadow: 0px 1px 3px 1px rgba(0, 0, 0, 0.15);\n",
              "      filter: drop-shadow(0px 1px 2px rgba(0, 0, 0, 0.3));\n",
              "      fill: #FFFFFF;\n",
              "    }\n",
              "  </style>\n",
              "\n",
              "    <script>\n",
              "      const buttonEl =\n",
              "        document.querySelector('#df-d19d2616-f903-493c-acd8-8647bcba7aa7 button.colab-df-convert');\n",
              "      buttonEl.style.display =\n",
              "        google.colab.kernel.accessAllowed ? 'block' : 'none';\n",
              "\n",
              "      async function convertToInteractive(key) {\n",
              "        const element = document.querySelector('#df-d19d2616-f903-493c-acd8-8647bcba7aa7');\n",
              "        const dataTable =\n",
              "          await google.colab.kernel.invokeFunction('convertToInteractive',\n",
              "                                                    [key], {});\n",
              "        if (!dataTable) return;\n",
              "\n",
              "        const docLinkHtml = 'Like what you see? Visit the ' +\n",
              "          '<a target=\"_blank\" href=https://colab.research.google.com/notebooks/data_table.ipynb>data table notebook</a>'\n",
              "          + ' to learn more about interactive tables.';\n",
              "        element.innerHTML = '';\n",
              "        dataTable['output_type'] = 'display_data';\n",
              "        await google.colab.output.renderOutput(dataTable, element);\n",
              "        const docLink = document.createElement('div');\n",
              "        docLink.innerHTML = docLinkHtml;\n",
              "        element.appendChild(docLink);\n",
              "      }\n",
              "    </script>\n",
              "  </div>\n",
              "\n",
              "\n",
              "<div id=\"df-9e96a642-8d09-4f10-b851-92fad5d003f0\">\n",
              "  <button class=\"colab-df-quickchart\" onclick=\"quickchart('df-9e96a642-8d09-4f10-b851-92fad5d003f0')\"\n",
              "            title=\"Suggest charts\"\n",
              "            style=\"display:none;\">\n",
              "\n",
              "<svg xmlns=\"http://www.w3.org/2000/svg\" height=\"24px\"viewBox=\"0 0 24 24\"\n",
              "     width=\"24px\">\n",
              "    <g>\n",
              "        <path d=\"M19 3H5c-1.1 0-2 .9-2 2v14c0 1.1.9 2 2 2h14c1.1 0 2-.9 2-2V5c0-1.1-.9-2-2-2zM9 17H7v-7h2v7zm4 0h-2V7h2v10zm4 0h-2v-4h2v4z\"/>\n",
              "    </g>\n",
              "</svg>\n",
              "  </button>\n",
              "\n",
              "<style>\n",
              "  .colab-df-quickchart {\n",
              "      --bg-color: #E8F0FE;\n",
              "      --fill-color: #1967D2;\n",
              "      --hover-bg-color: #E2EBFA;\n",
              "      --hover-fill-color: #174EA6;\n",
              "      --disabled-fill-color: #AAA;\n",
              "      --disabled-bg-color: #DDD;\n",
              "  }\n",
              "\n",
              "  [theme=dark] .colab-df-quickchart {\n",
              "      --bg-color: #3B4455;\n",
              "      --fill-color: #D2E3FC;\n",
              "      --hover-bg-color: #434B5C;\n",
              "      --hover-fill-color: #FFFFFF;\n",
              "      --disabled-bg-color: #3B4455;\n",
              "      --disabled-fill-color: #666;\n",
              "  }\n",
              "\n",
              "  .colab-df-quickchart {\n",
              "    background-color: var(--bg-color);\n",
              "    border: none;\n",
              "    border-radius: 50%;\n",
              "    cursor: pointer;\n",
              "    display: none;\n",
              "    fill: var(--fill-color);\n",
              "    height: 32px;\n",
              "    padding: 0;\n",
              "    width: 32px;\n",
              "  }\n",
              "\n",
              "  .colab-df-quickchart:hover {\n",
              "    background-color: var(--hover-bg-color);\n",
              "    box-shadow: 0 1px 2px rgba(60, 64, 67, 0.3), 0 1px 3px 1px rgba(60, 64, 67, 0.15);\n",
              "    fill: var(--button-hover-fill-color);\n",
              "  }\n",
              "\n",
              "  .colab-df-quickchart-complete:disabled,\n",
              "  .colab-df-quickchart-complete:disabled:hover {\n",
              "    background-color: var(--disabled-bg-color);\n",
              "    fill: var(--disabled-fill-color);\n",
              "    box-shadow: none;\n",
              "  }\n",
              "\n",
              "  .colab-df-spinner {\n",
              "    border: 2px solid var(--fill-color);\n",
              "    border-color: transparent;\n",
              "    border-bottom-color: var(--fill-color);\n",
              "    animation:\n",
              "      spin 1s steps(1) infinite;\n",
              "  }\n",
              "\n",
              "  @keyframes spin {\n",
              "    0% {\n",
              "      border-color: transparent;\n",
              "      border-bottom-color: var(--fill-color);\n",
              "      border-left-color: var(--fill-color);\n",
              "    }\n",
              "    20% {\n",
              "      border-color: transparent;\n",
              "      border-left-color: var(--fill-color);\n",
              "      border-top-color: var(--fill-color);\n",
              "    }\n",
              "    30% {\n",
              "      border-color: transparent;\n",
              "      border-left-color: var(--fill-color);\n",
              "      border-top-color: var(--fill-color);\n",
              "      border-right-color: var(--fill-color);\n",
              "    }\n",
              "    40% {\n",
              "      border-color: transparent;\n",
              "      border-right-color: var(--fill-color);\n",
              "      border-top-color: var(--fill-color);\n",
              "    }\n",
              "    60% {\n",
              "      border-color: transparent;\n",
              "      border-right-color: var(--fill-color);\n",
              "    }\n",
              "    80% {\n",
              "      border-color: transparent;\n",
              "      border-right-color: var(--fill-color);\n",
              "      border-bottom-color: var(--fill-color);\n",
              "    }\n",
              "    90% {\n",
              "      border-color: transparent;\n",
              "      border-bottom-color: var(--fill-color);\n",
              "    }\n",
              "  }\n",
              "</style>\n",
              "\n",
              "  <script>\n",
              "    async function quickchart(key) {\n",
              "      const quickchartButtonEl =\n",
              "        document.querySelector('#' + key + ' button');\n",
              "      quickchartButtonEl.disabled = true;  // To prevent multiple clicks.\n",
              "      quickchartButtonEl.classList.add('colab-df-spinner');\n",
              "      try {\n",
              "        const charts = await google.colab.kernel.invokeFunction(\n",
              "            'suggestCharts', [key], {});\n",
              "      } catch (error) {\n",
              "        console.error('Error during call to suggestCharts:', error);\n",
              "      }\n",
              "      quickchartButtonEl.classList.remove('colab-df-spinner');\n",
              "      quickchartButtonEl.classList.add('colab-df-quickchart-complete');\n",
              "    }\n",
              "    (() => {\n",
              "      let quickchartButtonEl =\n",
              "        document.querySelector('#df-9e96a642-8d09-4f10-b851-92fad5d003f0 button');\n",
              "      quickchartButtonEl.style.display =\n",
              "        google.colab.kernel.accessAllowed ? 'block' : 'none';\n",
              "    })();\n",
              "  </script>\n",
              "</div>\n",
              "\n",
              "    </div>\n",
              "  </div>\n"
            ]
          },
          "metadata": {},
          "execution_count": 38
        }
      ],
      "source": [
        "import pandas as pd\n",
        "\n",
        "stock_data = pd.read_csv('/content/sample_data/NFLX.csv',index_col='Date')\n",
        "\n",
        "stock_data.head()"
      ]
    },
    {
      "cell_type": "markdown",
      "source": [
        "**Load the dataset**"
      ],
      "metadata": {
        "id": "lvBMJgR9A23m"
      }
    },
    {
      "cell_type": "markdown",
      "source": [
        "**EXPLORATORY DATA ANALYSIS**"
      ],
      "metadata": {
        "id": "RF0hFp7X1rN5"
      }
    },
    {
      "cell_type": "code",
      "source": [
        "import matplotlib.dates as mdates\n",
        "\n",
        "import matplotlib.pyplot as plt\n",
        "\n",
        "import datetime as dt\n",
        "\n",
        "\n",
        "plt.figure(figsize=(15,10))\n",
        "\n",
        "plt.gca().xaxis.set_major_formatter(mdates.DateFormatter('%Y-%m-%d'))\n",
        "\n",
        "plt.gca().xaxis.set_major_locator(mdates.DayLocator (interval=60))\n",
        "\n",
        "x_dates = [dt.datetime.strptime(d,'%Y-%m-%d').date() for d in stock_data.index.values]\n",
        "\n",
        "\n",
        "\n",
        "plt.plot(x_dates, stock_data['High'], label='High')\n",
        "\n",
        "plt.plot(x_dates, stock_data['Low'], label='Low')\n",
        "\n",
        "plt.xlabel('Time Scale')\n",
        "\n",
        "plt.ylabel('Scaled USD')\n",
        "\n",
        "plt.legend()\n",
        "\n",
        "plt.gcf().autofmt_xdate()\n",
        "\n",
        "plt.show()"
      ],
      "metadata": {
        "id": "PpIYpAGRA-OK",
        "colab": {
          "base_uri": "https://localhost:8080/",
          "height": 719
        },
        "outputId": "75d4e668-1cb1-4b5a-a80f-ce8f3fe0b458"
      },
      "execution_count": 39,
      "outputs": [
        {
          "output_type": "display_data",
          "data": {
            "text/plain": [
              "<Figure size 1500x1000 with 1 Axes>"
            ],
            "image/png": "[encoded data removed]"
          },
          "metadata": {}
        }
      ]
    },
    {
      "cell_type": "markdown",
      "source": [
        "**DATA PREPROCESSING**"
      ],
      "metadata": {
        "id": "cjxhiu3U1itq"
      }
    },
    {
      "cell_type": "code",
      "source": [
        "target_y = stock_data['Close']\n",
        "\n",
        "X_feat = stock_data.iloc[:,0:3]"
      ],
      "metadata": {
        "id": "sgzcI_sUBROt"
      },
      "execution_count": 40,
      "outputs": []
    },
    {
      "cell_type": "code",
      "source": [
        "import matplotlib.pyplot as plt\n",
        "\n",
        "import pandas as pd\n",
        "\n",
        "import numpy as np\n",
        "\n",
        "from tensorflow.keras.models import Sequential\n",
        "\n",
        "from tensorflow.keras.layers import Dense\n",
        "\n",
        "from tensorflow.keras.layers import LSTM\n",
        "\n",
        "from tensorflow.keras.layers import Dropout\n",
        "\n",
        "from tensorflow.keras.layers import *\n",
        "\n",
        "from tensorflow.keras.callbacks import EarlyStopping\n",
        "\n",
        "\n",
        "from sklearn.preprocessing import MinMaxScaler, StandardScaler\n",
        "\n",
        "from sklearn.metrics import mean_squared_error\n",
        "\n",
        "from sklearn.metrics import mean_absolute_percentage_error\n",
        "\n",
        "from sklearn.model_selection import train_test_split\n",
        "\n",
        "from sklearn.model_selection import TimeSeriesSplit\n",
        "\n",
        "from sklearn.metrics import mean_squared_error"
      ],
      "metadata": {
        "id": "-5dvFzDVrfmR"
      },
      "execution_count": 41,
      "outputs": []
    },
    {
      "cell_type": "code",
      "source": [
        "#Feature Scaling\n",
        "\n",
        "sc = StandardScaler()\n",
        "\n",
        "X_ft = sc.fit_transform(X_feat.values)\n",
        "\n",
        "X_ft = pd.DataFrame(columns=X_feat.columns,data=X_ft,index=X_feat.index)"
      ],
      "metadata": {
        "id": "OSAJctaIBazX"
      },
      "execution_count": 43,
      "outputs": []
    },
    {
      "cell_type": "code",
      "source": [
        "def lstm_split(data, n_steps):\n",
        "  X,y=[],[]\n",
        "\n",
        "  for i in range(len(data)-n_steps+1):\n",
        "    X.append(data[i:i + n_steps, :-1])\n",
        "    y.append(data[i + n_steps-1, -1])\n",
        "  return np.array(X), np.array (y)"
      ],
      "metadata": {
        "id": "tbVTMwKcBfV9"
      },
      "execution_count": 44,
      "outputs": []
    },
    {
      "cell_type": "markdown",
      "source": [
        "**Visualize key statistics and trends**"
      ],
      "metadata": {
        "id": "AT8UOA6fBq6m"
      }
    },
    {
      "cell_type": "markdown",
      "source": [
        "**TRAINING AND TESTING**"
      ],
      "metadata": {
        "id": "hBdIAPqF1z9T"
      }
    },
    {
      "cell_type": "code",
      "source": [
        "X1, y1 = lstm_split(stock_data.values, n_steps=2)\n",
        "\n",
        "\n",
        "\n",
        "train_split=0.8\n",
        "\n",
        "split_idx = int(np.ceil(len(X1)*train_split))\n",
        "\n",
        "date_index = stock_data.index\n",
        "\n",
        "\n",
        "\n",
        "X_train, X_test = X1[:split_idx], X1[split_idx:]\n",
        "\n",
        "y_train, y_test = y1[: split_idx], y1[split_idx:]\n",
        "\n",
        "X_train_date, x_test_date = date_index[:split_idx], date_index[split_idx:]\n",
        "\n",
        "\n",
        "\n",
        "print(X1.shape, X_train.shape, X_test.shape, y_test.shape)"
      ],
      "metadata": {
        "colab": {
          "base_uri": "https://localhost:8080/"
        },
        "id": "DXNB4ew8Bs_f",
        "outputId": "bf2fbd16-5318-441c-cbc4-47fcdcf32dea"
      },
      "execution_count": 45,
      "outputs": [
        {
          "output_type": "stream",
          "name": "stdout",
          "text": [
            "(251, 2, 5) (201, 2, 5) (50, 2, 5) (50,)\n"
          ]
        }
      ]
    },
    {
      "cell_type": "markdown",
      "source": [
        "**USING LSTM MODEL**"
      ],
      "metadata": {
        "id": "3HnlYuIMDY7u"
      }
    },
    {
      "cell_type": "code",
      "source": [
        "lstm = Sequential()\n",
        "\n",
        "lstm.add(LSTM(32, input_shape=(X_train.shape[1], X_train.shape[2]),activation='relu', return_sequences=True))\n",
        "\n",
        "lstm.add(Dense(1))\n",
        "\n",
        "lstm.compile(loss='mean_squared_error', optimizer='adam')\n",
        "\n",
        "lstm.summary()"
      ],
      "metadata": {
        "colab": {
          "base_uri": "https://localhost:8080/"
        },
        "id": "pOrJC0-gDbsX",
        "outputId": "663d57d3-5edd-476e-cbcc-9a81ade8e65c"
      },
      "execution_count": 46,
      "outputs": [
        {
          "output_type": "stream",
          "name": "stdout",
          "text": [
            "Model: \"sequential_3\"\n",
            "_________________________________________________________________\n",
            " Layer (type)                Output Shape              Param #   \n",
            "=================================================================\n",
            " lstm_4 (LSTM)               (None, 2, 32)             4864      \n",
            "                                                                 \n",
            " dense_3 (Dense)             (None, 2, 1)              33        \n",
            "                                                                 \n",
            "=================================================================\n",
            "Total params: 4897 (19.13 KB)\n",
            "Trainable params: 4897 (19.13 KB)\n",
            "Non-trainable params: 0 (0.00 Byte)\n",
            "_________________________________________________________________\n"
          ]
        }
      ]
    },
    {
      "cell_type": "markdown",
      "source": [
        "**Predictive Modeling**"
      ],
      "metadata": {
        "id": "40gOV_CbDpsd"
      }
    },
    {
      "cell_type": "markdown",
      "source": [
        "Prepare data\n"
      ],
      "metadata": {
        "id": "xG3xO-bEDvxQ"
      }
    },
    {
      "cell_type": "code",
      "source": [
        "history=lstm.fit(X_train, y_train,epochs=100, batch_size=4,verbose=2, shuffle=False)"
      ],
      "metadata": {
        "id": "gXJT-bCNDxeY",
        "colab": {
          "base_uri": "https://localhost:8080/"
        },
        "outputId": "98e5c617-d784-4b05-80d1-6aaba94ff1ad"
      },
      "execution_count": 47,
      "outputs": [
        {
          "output_type": "stream",
          "name": "stdout",
          "text": [
            "Epoch 1/100\n",
            "51/51 - 2s - loss: 53804359745536.0000 - 2s/epoch - 30ms/step\n",
            "Epoch 2/100\n",
            "51/51 - 0s - loss: 53799125254144.0000 - 115ms/epoch - 2ms/step\n",
            "Epoch 3/100\n",
            "51/51 - 0s - loss: 53790535319552.0000 - 115ms/epoch - 2ms/step\n",
            "Epoch 4/100\n",
            "51/51 - 0s - loss: 53776408903680.0000 - 114ms/epoch - 2ms/step\n",
            "Epoch 5/100\n",
            "51/51 - 0s - loss: 53753734496256.0000 - 114ms/epoch - 2ms/step\n",
            "Epoch 6/100\n",
            "51/51 - 0s - loss: 53720666603520.0000 - 118ms/epoch - 2ms/step\n",
            "Epoch 7/100\n",
            "51/51 - 0s - loss: 53675196153856.0000 - 121ms/epoch - 2ms/step\n",
            "Epoch 8/100\n",
            "51/51 - 0s - loss: 53615381184512.0000 - 116ms/epoch - 2ms/step\n",
            "Epoch 9/100\n",
            "51/51 - 0s - loss: 53539405561856.0000 - 115ms/epoch - 2ms/step\n",
            "Epoch 10/100\n",
            "51/51 - 0s - loss: 53445595758592.0000 - 120ms/epoch - 2ms/step\n",
            "Epoch 11/100\n",
            "51/51 - 0s - loss: 53332399882240.0000 - 118ms/epoch - 2ms/step\n",
            "Epoch 12/100\n",
            "51/51 - 0s - loss: 53198526087168.0000 - 115ms/epoch - 2ms/step\n",
            "Epoch 13/100\n",
            "51/51 - 0s - loss: 53042871271424.0000 - 121ms/epoch - 2ms/step\n",
            "Epoch 14/100\n",
            "51/51 - 0s - loss: 52864424607744.0000 - 115ms/epoch - 2ms/step\n",
            "Epoch 15/100\n",
            "51/51 - 0s - loss: 52662452092928.0000 - 128ms/epoch - 3ms/step\n",
            "Epoch 16/100\n",
            "51/51 - 0s - loss: 52436341358592.0000 - 113ms/epoch - 2ms/step\n",
            "Epoch 17/100\n",
            "51/51 - 0s - loss: 52185631031296.0000 - 112ms/epoch - 2ms/step\n",
            "Epoch 18/100\n",
            "51/51 - 0s - loss: 51910203670528.0000 - 112ms/epoch - 2ms/step\n",
            "Epoch 19/100\n",
            "51/51 - 0s - loss: 51610063470592.0000 - 122ms/epoch - 2ms/step\n",
            "Epoch 20/100\n",
            "51/51 - 0s - loss: 51285378203648.0000 - 115ms/epoch - 2ms/step\n",
            "Epoch 21/100\n",
            "51/51 - 0s - loss: 50936579883008.0000 - 123ms/epoch - 2ms/step\n",
            "Epoch 22/100\n",
            "51/51 - 0s - loss: 50564285071360.0000 - 115ms/epoch - 2ms/step\n",
            "Epoch 23/100\n",
            "51/51 - 0s - loss: 50169244549120.0000 - 117ms/epoch - 2ms/step\n",
            "Epoch 24/100\n",
            "51/51 - 0s - loss: 49752431394816.0000 - 123ms/epoch - 2ms/step\n",
            "Epoch 25/100\n",
            "51/51 - 0s - loss: 49315011624960.0000 - 112ms/epoch - 2ms/step\n",
            "Epoch 26/100\n",
            "51/51 - 0s - loss: 48858277085184.0000 - 117ms/epoch - 2ms/step\n",
            "Epoch 27/100\n",
            "51/51 - 0s - loss: 48383708364800.0000 - 113ms/epoch - 2ms/step\n",
            "Epoch 28/100\n",
            "51/51 - 0s - loss: 47892941242368.0000 - 112ms/epoch - 2ms/step\n",
            "Epoch 29/100\n",
            "51/51 - 0s - loss: 47387686993920.0000 - 119ms/epoch - 2ms/step\n",
            "Epoch 30/100\n",
            "51/51 - 0s - loss: 46869833056256.0000 - 112ms/epoch - 2ms/step\n",
            "Epoch 31/100\n",
            "51/51 - 0s - loss: 46341367529472.0000 - 117ms/epoch - 2ms/step\n",
            "Epoch 32/100\n",
            "51/51 - 0s - loss: 45804316262400.0000 - 116ms/epoch - 2ms/step\n",
            "Epoch 33/100\n",
            "51/51 - 0s - loss: 45260826738688.0000 - 114ms/epoch - 2ms/step\n",
            "Epoch 34/100\n",
            "51/51 - 0s - loss: 44713059024896.0000 - 116ms/epoch - 2ms/step\n",
            "Epoch 35/100\n",
            "51/51 - 0s - loss: 44163198353408.0000 - 112ms/epoch - 2ms/step\n",
            "Epoch 36/100\n",
            "51/51 - 0s - loss: 43613476093952.0000 - 113ms/epoch - 2ms/step\n",
            "Epoch 37/100\n",
            "51/51 - 0s - loss: 43066073284608.0000 - 111ms/epoch - 2ms/step\n",
            "Epoch 38/100\n",
            "51/51 - 0s - loss: 42523179352064.0000 - 114ms/epoch - 2ms/step\n",
            "Epoch 39/100\n",
            "51/51 - 0s - loss: 41986874671104.0000 - 111ms/epoch - 2ms/step\n",
            "Epoch 40/100\n",
            "51/51 - 0s - loss: 41459206062080.0000 - 117ms/epoch - 2ms/step\n",
            "Epoch 41/100\n",
            "51/51 - 0s - loss: 40942123876352.0000 - 132ms/epoch - 3ms/step\n",
            "Epoch 42/100\n",
            "51/51 - 0s - loss: 40437435858944.0000 - 108ms/epoch - 2ms/step\n",
            "Epoch 43/100\n",
            "51/51 - 0s - loss: 39946861674496.0000 - 112ms/epoch - 2ms/step\n",
            "Epoch 44/100\n",
            "51/51 - 0s - loss: 39471919661056.0000 - 112ms/epoch - 2ms/step\n",
            "Epoch 45/100\n",
            "51/51 - 0s - loss: 39014014910464.0000 - 112ms/epoch - 2ms/step\n",
            "Epoch 46/100\n",
            "51/51 - 0s - loss: 38574363770880.0000 - 112ms/epoch - 2ms/step\n",
            "Epoch 47/100\n",
            "51/51 - 0s - loss: 38153968680960.0000 - 114ms/epoch - 2ms/step\n",
            "Epoch 48/100\n",
            "51/51 - 0s - loss: 37753672695808.0000 - 112ms/epoch - 2ms/step\n",
            "Epoch 49/100\n",
            "51/51 - 0s - loss: 37374109155328.0000 - 121ms/epoch - 2ms/step\n",
            "Epoch 50/100\n",
            "51/51 - 0s - loss: 37015726850048.0000 - 122ms/epoch - 2ms/step\n",
            "Epoch 51/100\n",
            "51/51 - 0s - loss: 36678769049600.0000 - 112ms/epoch - 2ms/step\n",
            "Epoch 52/100\n",
            "51/51 - 0s - loss: 36363269308416.0000 - 109ms/epoch - 2ms/step\n",
            "Epoch 53/100\n",
            "51/51 - 0s - loss: 36069101797376.0000 - 109ms/epoch - 2ms/step\n",
            "Epoch 54/100\n",
            "51/51 - 0s - loss: 35795985498112.0000 - 109ms/epoch - 2ms/step\n",
            "Epoch 55/100\n",
            "51/51 - 0s - loss: 35543450648576.0000 - 115ms/epoch - 2ms/step\n",
            "Epoch 56/100\n",
            "51/51 - 0s - loss: 35310880686080.0000 - 111ms/epoch - 2ms/step\n",
            "Epoch 57/100\n",
            "51/51 - 0s - loss: 35097562578944.0000 - 114ms/epoch - 2ms/step\n",
            "Epoch 58/100\n",
            "51/51 - 0s - loss: 34902663757824.0000 - 110ms/epoch - 2ms/step\n",
            "Epoch 59/100\n",
            "51/51 - 0s - loss: 34725280350208.0000 - 124ms/epoch - 2ms/step\n",
            "Epoch 60/100\n",
            "51/51 - 0s - loss: 34564422500352.0000 - 114ms/epoch - 2ms/step\n",
            "Epoch 61/100\n",
            "51/51 - 0s - loss: 34419066798080.0000 - 116ms/epoch - 2ms/step\n",
            "Epoch 62/100\n",
            "51/51 - 0s - loss: 34288166764544.0000 - 111ms/epoch - 2ms/step\n",
            "Epoch 63/100\n",
            "51/51 - 0s - loss: 34170663337984.0000 - 116ms/epoch - 2ms/step\n",
            "Epoch 64/100\n",
            "51/51 - 0s - loss: 34065501650944.0000 - 114ms/epoch - 2ms/step\n",
            "Epoch 65/100\n",
            "51/51 - 0s - loss: 33971647807488.0000 - 111ms/epoch - 2ms/step\n",
            "Epoch 66/100\n",
            "51/51 - 0s - loss: 33888105660416.0000 - 117ms/epoch - 2ms/step\n",
            "Epoch 67/100\n",
            "51/51 - 0s - loss: 33813923102720.0000 - 117ms/epoch - 2ms/step\n",
            "Epoch 68/100\n",
            "51/51 - 0s - loss: 33748177387520.0000 - 120ms/epoch - 2ms/step\n",
            "Epoch 69/100\n",
            "51/51 - 0s - loss: 33690029654016.0000 - 110ms/epoch - 2ms/step\n",
            "Epoch 70/100\n",
            "51/51 - 0s - loss: 33638691373056.0000 - 136ms/epoch - 3ms/step\n",
            "Epoch 71/100\n",
            "51/51 - 0s - loss: 33593426444288.0000 - 168ms/epoch - 3ms/step\n",
            "Epoch 72/100\n",
            "51/51 - 0s - loss: 33553534418944.0000 - 161ms/epoch - 3ms/step\n",
            "Epoch 73/100\n",
            "51/51 - 0s - loss: 33518434385920.0000 - 168ms/epoch - 3ms/step\n",
            "Epoch 74/100\n",
            "51/51 - 0s - loss: 33487566405632.0000 - 159ms/epoch - 3ms/step\n",
            "Epoch 75/100\n",
            "51/51 - 0s - loss: 33460418772992.0000 - 159ms/epoch - 3ms/step\n",
            "Epoch 76/100\n",
            "51/51 - 0s - loss: 33436542697472.0000 - 155ms/epoch - 3ms/step\n",
            "Epoch 77/100\n",
            "51/51 - 0s - loss: 33415554400256.0000 - 157ms/epoch - 3ms/step\n",
            "Epoch 78/100\n",
            "51/51 - 0s - loss: 33397070102528.0000 - 159ms/epoch - 3ms/step\n",
            "Epoch 79/100\n",
            "51/51 - 0s - loss: 33380798300160.0000 - 169ms/epoch - 3ms/step\n",
            "Epoch 80/100\n",
            "51/51 - 0s - loss: 33366451683328.0000 - 176ms/epoch - 3ms/step\n",
            "Epoch 81/100\n",
            "51/51 - 0s - loss: 33353776496640.0000 - 164ms/epoch - 3ms/step\n",
            "Epoch 82/100\n",
            "51/51 - 0s - loss: 33342581899264.0000 - 175ms/epoch - 3ms/step\n",
            "Epoch 83/100\n",
            "51/51 - 0s - loss: 33332653981696.0000 - 176ms/epoch - 3ms/step\n",
            "Epoch 84/100\n",
            "51/51 - 0s - loss: 33323839651840.0000 - 178ms/epoch - 3ms/step\n",
            "Epoch 85/100\n",
            "51/51 - 0s - loss: 33316004691968.0000 - 179ms/epoch - 4ms/step\n",
            "Epoch 86/100\n",
            "51/51 - 0s - loss: 33309002301440.0000 - 189ms/epoch - 4ms/step\n",
            "Epoch 87/100\n",
            "51/51 - 0s - loss: 33302744399872.0000 - 193ms/epoch - 4ms/step\n",
            "Epoch 88/100\n",
            "51/51 - 0s - loss: 33297126129664.0000 - 197ms/epoch - 4ms/step\n",
            "Epoch 89/100\n",
            "51/51 - 0s - loss: 33292061507584.0000 - 170ms/epoch - 3ms/step\n",
            "Epoch 90/100\n",
            "51/51 - 0s - loss: 33287487619072.0000 - 129ms/epoch - 3ms/step\n",
            "Epoch 91/100\n",
            "51/51 - 0s - loss: 33283335258112.0000 - 112ms/epoch - 2ms/step\n",
            "Epoch 92/100\n",
            "51/51 - 0s - loss: 33279566675968.0000 - 111ms/epoch - 2ms/step\n",
            "Epoch 93/100\n",
            "51/51 - 0s - loss: 33276121055232.0000 - 120ms/epoch - 2ms/step\n",
            "Epoch 94/100\n",
            "51/51 - 0s - loss: 33272952258560.0000 - 121ms/epoch - 2ms/step\n",
            "Epoch 95/100\n",
            "51/51 - 0s - loss: 33270039314432.0000 - 108ms/epoch - 2ms/step\n",
            "Epoch 96/100\n",
            "51/51 - 0s - loss: 33267350765568.0000 - 109ms/epoch - 2ms/step\n",
            "Epoch 97/100\n",
            "51/51 - 0s - loss: 33264844668928.0000 - 113ms/epoch - 2ms/step\n",
            "Epoch 98/100\n",
            "51/51 - 0s - loss: 33262521024512.0000 - 112ms/epoch - 2ms/step\n",
            "Epoch 99/100\n",
            "51/51 - 0s - loss: 33260331597824.0000 - 116ms/epoch - 2ms/step\n",
            "Epoch 100/100\n",
            "51/51 - 0s - loss: 33258276388864.0000 - 108ms/epoch - 2ms/step\n"
          ]
        }
      ]
    },
    {
      "cell_type": "markdown",
      "source": [
        "**Performance Evaluation on Test Set**"
      ],
      "metadata": {
        "id": "DL-0AxrP2DuH"
      }
    },
    {
      "cell_type": "code",
      "source": [
        "y_pred = lstm.predict(X_test)"
      ],
      "metadata": {
        "id": "lxIw4XgbGoyU",
        "colab": {
          "base_uri": "https://localhost:8080/"
        },
        "outputId": "2078357d-d478-477a-e9ee-7c002cb34e28"
      },
      "execution_count": 48,
      "outputs": [
        {
          "output_type": "stream",
          "name": "stdout",
          "text": [
            "2/2 [==============================] - 0s 5ms/step\n"
          ]
        }
      ]
    },
    {
      "cell_type": "code",
      "source": [
        "def evaluate_model(y_true, y_pred):\n",
        "    mae = mean_absolute_error(y_true, y_pred)\n",
        "    mse = mean_squared_error(y_true, y_pred)\n",
        "    r2 = r2_score(y_true, y_pred)\n",
        "    print(\"Mean Absolute Error:\", mae)\n",
        "    print(\"Mean Squared Error:\", mse)\n",
        "    print(\"R-squared Score:\", r2)"
      ],
      "metadata": {
        "id": "ofsjnMLq31uC"
      },
      "execution_count": 49,
      "outputs": []
    },
    {
      "cell_type": "code",
      "source": [
        "lstm = Sequential()\n",
        "\n",
        "lstm.add(LSTM(50, input_shape=(X_train.shape[1], X_train.shape[2]),activation='relu', return_sequences=True))\n",
        "\n",
        "lstm.add(LSTM(50, activation= 'relu'))\n",
        "\n",
        "lstm.add(Dense(1))\n",
        "\n",
        "lstm.compile(loss='mean_squared_error', optimizer='adam')\n",
        "lstm.summary()"
      ],
      "metadata": {
        "id": "z4DqiPxpGqyK",
        "colab": {
          "base_uri": "https://localhost:8080/"
        },
        "outputId": "de60ce3c-d6bd-46c3-a5da-47273e2fe197"
      },
      "execution_count": 50,
      "outputs": [
        {
          "output_type": "stream",
          "name": "stdout",
          "text": [
            "Model: \"sequential_4\"\n",
            "_________________________________________________________________\n",
            " Layer (type)                Output Shape              Param #   \n",
            "=================================================================\n",
            " lstm_5 (LSTM)               (None, 2, 50)             11200     \n",
            "                                                                 \n",
            " lstm_6 (LSTM)               (None, 50)                20200     \n",
            "                                                                 \n",
            " dense_4 (Dense)             (None, 1)                 51        \n",
            "                                                                 \n",
            "=================================================================\n",
            "Total params: 31451 (122.86 KB)\n",
            "Trainable params: 31451 (122.86 KB)\n",
            "Non-trainable params: 0 (0.00 Byte)\n",
            "_________________________________________________________________\n"
          ]
        }
      ]
    },
    {
      "cell_type": "code",
      "source": [
        "n_steps=10\n",
        "\n",
        "x1, y1 = lstm_split(stock_data.values, n_steps=n_steps)\n",
        "\n",
        "\n",
        "train_split=0.8\n",
        "\n",
        "split_idx = int(np.ceil(len(X1)*train_split))\n",
        "\n",
        "date_index = stock_data.index\n",
        "\n",
        "\n",
        "X_train, X_test = X1[: split_idx], X1[split_idx:]\n",
        "\n",
        "y_train, y_test = y1[: split_idx], y1[split_idx:]\n",
        "\n",
        "X_train_date, X_test_date = date_index[:split_idx], date_index[split_idx:-n_steps]\n",
        "\n",
        "print(x1.shape, X_train.shape, X_test.shape, X_test_date.shape, y_test.shape)\n",
        "\n"
      ],
      "metadata": {
        "colab": {
          "base_uri": "https://localhost:8080/"
        },
        "id": "PncknVJfGw2L",
        "outputId": "2b279d13-b6b0-4551-8c7d-a2073bfc7632"
      },
      "execution_count": 51,
      "outputs": [
        {
          "output_type": "stream",
          "name": "stdout",
          "text": [
            "(243, 10, 5) (201, 2, 5) (50, 2, 5) (41,) (42,)\n"
          ]
        }
      ]
    },
    {
      "cell_type": "code",
      "source": [
        "train_split = 0.8\n",
        "\n",
        "split_idx = int(np.ceil(len(stock_data)*train_split))\n",
        "\n",
        "train = stock_data[['Close']].iloc[:split_idx]\n",
        "\n",
        "test = stock_data[['Close']].iloc[split_idx:]\n",
        "\n",
        "\n",
        "\n",
        "test_pred = np.array([train.rolling(10).mean().iloc[-1]]*len(test)).reshape((-1,1))\n",
        "\n",
        "\n",
        "\n",
        "print('Test RMSE: %.3f' % mean_squared_error(test, test_pred, squared=False))\n",
        "\n",
        "print('Test MAPE: %.3f' % mean_absolute_percentage_error(test, test_pred))\n",
        "\n",
        "plt.figure(figsize=(10,5))\n",
        "\n",
        "plt.plot(test)\n",
        "\n",
        "plt.plot(test_pred)\n",
        "\n",
        "plt.show()"
      ],
      "metadata": {
        "colab": {
          "base_uri": "https://localhost:8080/",
          "height": 480
        },
        "id": "85Dau0NsEmlo",
        "outputId": "fe7410a2-9e80-4e48-b7ca-a47d78454cb1"
      },
      "execution_count": 52,
      "outputs": [
        {
          "output_type": "stream",
          "name": "stdout",
          "text": [
            "Test RMSE: 50.212\n",
            "Test MAPE: 0.069\n"
          ]
        },
        {
          "output_type": "display_data",
          "data": {
            "text/plain": [
              "<Figure size 1000x500 with 1 Axes>"
            ],
            "image/png": "[encoded data removed]"
          },
          "metadata": {}
        }
      ]
    },
    {
      "cell_type": "markdown",
      "source": [],
      "metadata": {
        "id": "szatjDwJm7GC"
      }
    }
  ]
}